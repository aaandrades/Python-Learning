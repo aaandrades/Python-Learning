{
 "cells": [
  {
   "cell_type": "markdown",
   "id": "b2fe2a82",
   "metadata": {},
   "source": [
    "## List\n",
    "\n",
    "- List are ordered sequences that can hold a variey object types.\n",
    "- They use [ ] brackets and commas to separate objects in the list, like [1,2,3]\n",
    "- List support indexing and slicing. Lists can be nested and also have a variety of useful methods that can be called off of them.\n",
    "- The lists can have different types of data."
   ]
  },
  {
   "cell_type": "code",
   "execution_count": 2,
   "id": "162902be",
   "metadata": {},
   "outputs": [
    {
     "data": {
      "text/plain": [
       "4"
      ]
     },
     "execution_count": 2,
     "metadata": {},
     "output_type": "execute_result"
    }
   ],
   "source": [
    "myList = [1,2,3,4]\n",
    "len(myList)"
   ]
  },
  {
   "cell_type": "code",
   "execution_count": 6,
   "id": "32b57e78",
   "metadata": {},
   "outputs": [
    {
     "data": {
      "text/plain": [
       "['string', 1]"
      ]
     },
     "execution_count": 6,
     "metadata": {},
     "output_type": "execute_result"
    }
   ],
   "source": [
    "listWithDifferentTypes = [\"string\", 1, True]\n",
    "listWithDifferentTypes[:2]"
   ]
  },
  {
   "cell_type": "code",
   "execution_count": 8,
   "id": "67bc9dcd",
   "metadata": {},
   "outputs": [
    {
     "data": {
      "text/plain": [
       "[1, 2, 3, 4, 'string', 1, True]"
      ]
     },
     "execution_count": 8,
     "metadata": {},
     "output_type": "execute_result"
    }
   ],
   "source": [
    "concatenatedList = myList + listWithDifferentTypes\n",
    "concatenatedList"
   ]
  },
  {
   "cell_type": "code",
   "execution_count": 10,
   "id": "9efef168",
   "metadata": {},
   "outputs": [
    {
     "data": {
      "text/plain": [
       "[1, 'string', 3, 4, 5]"
      ]
     },
     "execution_count": 10,
     "metadata": {},
     "output_type": "execute_result"
    }
   ],
   "source": [
    "newList = [1,2,3,4,5]\n",
    "newList[1] = \"string\" # List are mutables\n",
    "newList"
   ]
  },
  {
   "cell_type": "code",
   "execution_count": 18,
   "id": "16baeef8",
   "metadata": {},
   "outputs": [
    {
     "data": {
      "text/plain": [
       "[1, 'string', 3, 4, 'Append new element']"
      ]
     },
     "execution_count": 18,
     "metadata": {},
     "output_type": "execute_result"
    }
   ],
   "source": [
    "newList.append('Append new element')\n",
    "newList"
   ]
  },
  {
   "cell_type": "code",
   "execution_count": 19,
   "id": "3e7cc6be",
   "metadata": {},
   "outputs": [
    {
     "data": {
      "text/plain": [
       "[1, 'string', 3, 4]"
      ]
     },
     "execution_count": 19,
     "metadata": {},
     "output_type": "execute_result"
    }
   ],
   "source": [
    "newList.pop() #Pop out an element\n",
    "newList"
   ]
  },
  {
   "cell_type": "code",
   "execution_count": 23,
   "id": "05b3dbab",
   "metadata": {},
   "outputs": [
    {
     "data": {
      "text/plain": [
       "[1, 2, 4, 5, 7]"
      ]
     },
     "execution_count": 23,
     "metadata": {},
     "output_type": "execute_result"
    }
   ],
   "source": [
    "numbersList = [4,5,2,1,7]\n",
    "numbersList.sort()\n",
    "numbersList"
   ]
  },
  {
   "cell_type": "code",
   "execution_count": 25,
   "id": "081cb3d5",
   "metadata": {},
   "outputs": [
    {
     "data": {
      "text/plain": [
       "[7, 5, 4, 2, 1]"
      ]
     },
     "execution_count": 25,
     "metadata": {},
     "output_type": "execute_result"
    }
   ],
   "source": [
    "numbersList.reverse()\n",
    "numbersList"
   ]
  },
  {
   "cell_type": "code",
   "execution_count": 1,
   "id": "efb87a91",
   "metadata": {},
   "outputs": [
    {
     "data": {
      "text/plain": [
       "'list of string 1'"
      ]
     },
     "execution_count": 1,
     "metadata": {},
     "output_type": "execute_result"
    }
   ],
   "source": [
    "nestedList = [1,2,3, [\"list of string 0\", \"list of string 1\"]]\n",
    "nestedList[3][1]"
   ]
  }
 ],
 "metadata": {
  "kernelspec": {
   "display_name": "Python 3 (ipykernel)",
   "language": "python",
   "name": "python3"
  },
  "language_info": {
   "codemirror_mode": {
    "name": "ipython",
    "version": 3
   },
   "file_extension": ".py",
   "mimetype": "text/x-python",
   "name": "python",
   "nbconvert_exporter": "python",
   "pygments_lexer": "ipython3",
   "version": "3.9.7"
  }
 },
 "nbformat": 4,
 "nbformat_minor": 5
}
