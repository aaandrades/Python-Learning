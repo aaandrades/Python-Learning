{
 "cells": [
  {
   "cell_type": "markdown",
   "id": "b2fe2a82",
   "metadata": {},
   "source": [
    "## List\n",
    "\n",
    "- List are ordered sequences that can hold a variey object types.\n",
    "- They use [ ] brackets and commas to separate objects in the list, like [1,2,3]\n",
    "- List support indexing and slicing. Lists can be nested and also have a variety of useful methods that can be called off of them.\n",
    "- The lists can have different types of data."
   ]
  },
  {
   "cell_type": "code",
   "execution_count": 2,
   "id": "162902be",
   "metadata": {},
   "outputs": [
    {
     "data": {
      "text/plain": [
       "4"
      ]
     },
     "execution_count": 2,
     "metadata": {},
     "output_type": "execute_result"
    }
   ],
   "source": [
    "myList = [1,2,3,4]\n",
    "len(myList)"
   ]
  },
  {
   "cell_type": "code",
   "execution_count": 6,
   "id": "32b57e78",
   "metadata": {},
   "outputs": [
    {
     "data": {
      "text/plain": [
       "['string', 1]"
      ]
     },
     "execution_count": 6,
     "metadata": {},
     "output_type": "execute_result"
    }
   ],
   "source": [
    "listWithDifferentTypes = [\"string\", 1, True]\n",
    "listWithDifferentTypes[:2]"
   ]
  },
  {
   "cell_type": "code",
   "execution_count": 8,
   "id": "67bc9dcd",
   "metadata": {},
   "outputs": [
    {
     "data": {
      "text/plain": [
       "[1, 2, 3, 4, 'string', 1, True]"
      ]
     },
     "execution_count": 8,
     "metadata": {},
     "output_type": "execute_result"
    }
   ],
   "source": [
    "concatenatedList = myList + listWithDifferentTypes\n",
    "concatenatedList"
   ]
  },
  {
   "cell_type": "code",
   "execution_count": 10,
   "id": "9efef168",
   "metadata": {},
   "outputs": [
    {
     "data": {
      "text/plain": [
       "[1, 'string', 3, 4, 5]"
      ]
     },
     "execution_count": 10,
     "metadata": {},
     "output_type": "execute_result"
    }
   ],
   "source": [
    "newList = [1,2,3,4,5]\n",
    "newList[1] = \"string\" # List are mutables\n",
    "newList"
   ]
  },
  {
   "cell_type": "code",
   "execution_count": 18,
   "id": "16baeef8",
   "metadata": {},
   "outputs": [
    {
     "data": {
      "text/plain": [
       "[1, 'string', 3, 4, 'Append new element']"
      ]
     },
     "execution_count": 18,
     "metadata": {},
     "output_type": "execute_result"
    }
   ],
   "source": [
    "newList.append('Append new element')\n",
    "newList"
   ]
  },
  {
   "cell_type": "code",
   "execution_count": 19,
   "id": "3e7cc6be",
   "metadata": {},
   "outputs": [
    {
     "data": {
      "text/plain": [
       "[1, 'string', 3, 4]"
      ]
     },
     "execution_count": 19,
     "metadata": {},
     "output_type": "execute_result"
    }
   ],
   "source": [
    "newList.pop() #Pop out an element\n",
    "newList"
   ]
  },
  {
   "cell_type": "code",
   "execution_count": 23,
   "id": "05b3dbab",
   "metadata": {},
   "outputs": [
    {
     "data": {
      "text/plain": [
       "[1, 2, 4, 5, 7]"
      ]
     },
     "execution_count": 23,
     "metadata": {},
     "output_type": "execute_result"
    }
   ],
   "source": [
    "numbersList = [4,5,2,1,7]\n",
    "numbersList.sort()\n",
    "numbersList"
   ]
  },
  {
   "cell_type": "code",
   "execution_count": 25,
   "id": "081cb3d5",
   "metadata": {},
   "outputs": [
    {
     "data": {
      "text/plain": [
       "[7, 5, 4, 2, 1]"
      ]
     },
     "execution_count": 25,
     "metadata": {},
     "output_type": "execute_result"
    }
   ],
   "source": [
    "numbersList.reverse()\n",
    "numbersList"
   ]
  },
  {
   "cell_type": "code",
   "execution_count": 1,
   "id": "efb87a91",
   "metadata": {},
   "outputs": [
    {
     "data": {
      "text/plain": [
       "'list of string 1'"
      ]
     },
     "execution_count": 1,
     "metadata": {},
     "output_type": "execute_result"
    }
   ],
   "source": [
    "nestedList = [1,2,3, [\"list of string 0\", \"list of string 1\"]]\n",
    "nestedList[3][1]"
   ]
  },
  {
   "cell_type": "code",
   "execution_count": 2,
   "id": "94679f79",
   "metadata": {},
   "outputs": [
    {
     "data": {
      "text/plain": [
       "['h', 'e', 'l', 'l', 'o']"
      ]
     },
     "execution_count": 2,
     "metadata": {},
     "output_type": "execute_result"
    }
   ],
   "source": [
    "myString = \"hello\"\n",
    "myList = []\n",
    "for letter in myString:\n",
    "    myList.append(letter)\n",
    "myList"
   ]
  },
  {
   "cell_type": "code",
   "execution_count": 4,
   "id": "4b757a65",
   "metadata": {},
   "outputs": [
    {
     "data": {
      "text/plain": [
       "['h', 'e', 'l', 'l', 'o']"
      ]
     },
     "execution_count": 4,
     "metadata": {},
     "output_type": "execute_result"
    }
   ],
   "source": [
    "myList = [letter for letter in myString]  #List comprehesion\n",
    "myList"
   ]
  },
  {
   "cell_type": "code",
   "execution_count": 6,
   "id": "13a7af81",
   "metadata": {},
   "outputs": [
    {
     "data": {
      "text/plain": [
       "['h', 'e', 'l', 'l', 'o', ' ', 'm', 'o', 't', 'h', 'e', 'r']"
      ]
     },
     "execution_count": 6,
     "metadata": {},
     "output_type": "execute_result"
    }
   ],
   "source": [
    "myList = []\n",
    "myString = \"hello mother\"\n",
    "myList = [*myString]\n",
    "myList"
   ]
  },
  {
   "cell_type": "code",
   "execution_count": 10,
   "id": "e52f7f6e",
   "metadata": {},
   "outputs": [
    {
     "data": {
      "text/plain": [
       "['h', 'e', 'l', 'l', 'o', ' ', 'm', 'o', 't', 'h', 'e', 'r']"
      ]
     },
     "execution_count": 10,
     "metadata": {},
     "output_type": "execute_result"
    }
   ],
   "source": [
    "myList = []\n",
    "myList = [letter for letter in myString]\n",
    "myList"
   ]
  },
  {
   "cell_type": "code",
   "execution_count": 11,
   "id": "e0277860",
   "metadata": {},
   "outputs": [
    {
     "data": {
      "text/plain": [
       "[0, 2, 4, 6, 8, 10]"
      ]
     },
     "execution_count": 11,
     "metadata": {},
     "output_type": "execute_result"
    }
   ],
   "source": [
    "myList = [x for x in range(0,11) if x%2 == 0]  #List comprehesion with conditionals\n",
    "myList"
   ]
  },
  {
   "cell_type": "code",
   "execution_count": 14,
   "id": "a1bb62f2",
   "metadata": {},
   "outputs": [
    {
     "data": {
      "text/plain": [
       "[32.0, 50.0, 68.0, 94.1]"
      ]
     },
     "execution_count": 14,
     "metadata": {},
     "output_type": "execute_result"
    }
   ],
   "source": [
    "celcius = [0,10,20,34.5]\n",
    "fahrenheit = [((9/5)*temp + 32) for temp in celcius]  #List comprehesion with functions\n",
    "fahrenheit"
   ]
  },
  {
   "cell_type": "code",
   "execution_count": null,
   "id": "dd0e7691",
   "metadata": {},
   "outputs": [],
   "source": []
  }
 ],
 "metadata": {
  "kernelspec": {
   "display_name": "Python 3 (ipykernel)",
   "language": "python",
   "name": "python3"
  },
  "language_info": {
   "codemirror_mode": {
    "name": "ipython",
    "version": 3
   },
   "file_extension": ".py",
   "mimetype": "text/x-python",
   "name": "python",
   "nbconvert_exporter": "python",
   "pygments_lexer": "ipython3",
   "version": "3.9.7"
  }
 },
 "nbformat": 4,
 "nbformat_minor": 5
}
