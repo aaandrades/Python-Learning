{
 "cells": [
  {
   "cell_type": "markdown",
   "id": "e384f46f",
   "metadata": {},
   "source": [
    "## Object Oriented Programming\n",
    "\n",
    "Object Oriented Programming allos programmers to create their own objects that have methods and atributes.\n",
    "\n",
    "Recall that after defining a string, list, dictionary, or other objects, you wee able to call methods off of them with the .metho_name() syntax."
   ]
  },
  {
   "cell_type": "code",
   "execution_count": 4,
   "id": "bae9c2aa",
   "metadata": {},
   "outputs": [],
   "source": [
    "mylist = [1,2,3]\n",
    "myset = set()"
   ]
  },
  {
   "cell_type": "code",
   "execution_count": 31,
   "id": "feaa0a67",
   "metadata": {},
   "outputs": [],
   "source": [
    "class Dog():\n",
    "    \n",
    "    # CLASS OBJECT ATTRIBUTE\n",
    "    # Same for any instance of a class\n",
    "    \n",
    "    species = \"mammal\"\n",
    "    \n",
    "    # Constructor of the class\n",
    "    def __init__(self, breed, name, spots):\n",
    "        \n",
    "        # Attributes\n",
    "        # We take in the argument\n",
    "        # Assign it using self.atribute_name\n",
    "        self.breed = breed\n",
    "        self.name = name\n",
    "        \n",
    "        # Expect an Boolean\n",
    "        self.spots = spots\n",
    "    \n",
    "    def caminar(self):\n",
    "        print('El perrito camina '+self.name)"
   ]
  },
  {
   "cell_type": "code",
   "execution_count": 32,
   "id": "c76be721",
   "metadata": {},
   "outputs": [],
   "source": [
    "my_dog = Dog('Criollito', 'Isis', False)"
   ]
  },
  {
   "cell_type": "code",
   "execution_count": 34,
   "id": "0b54c030",
   "metadata": {},
   "outputs": [
    {
     "name": "stdout",
     "output_type": "stream",
     "text": [
      "Criollito\n",
      "Isis\n",
      "False\n"
     ]
    }
   ],
   "source": [
    "type(my_dog)\n",
    "print(my_dog.breed)\n",
    "print(my_dog.name)\n",
    "print(my_dog.spots)"
   ]
  },
  {
   "cell_type": "code",
   "execution_count": 35,
   "id": "30373160",
   "metadata": {},
   "outputs": [
    {
     "name": "stdout",
     "output_type": "stream",
     "text": [
      "El perrito camina Isis\n"
     ]
    }
   ],
   "source": [
    "my_dog.caminar()"
   ]
  },
  {
   "cell_type": "code",
   "execution_count": null,
   "id": "b51860c3",
   "metadata": {},
   "outputs": [],
   "source": []
  }
 ],
 "metadata": {
  "kernelspec": {
   "display_name": "Python 3 (ipykernel)",
   "language": "python",
   "name": "python3"
  },
  "language_info": {
   "codemirror_mode": {
    "name": "ipython",
    "version": 3
   },
   "file_extension": ".py",
   "mimetype": "text/x-python",
   "name": "python",
   "nbconvert_exporter": "python",
   "pygments_lexer": "ipython3",
   "version": "3.9.7"
  }
 },
 "nbformat": 4,
 "nbformat_minor": 5
}
