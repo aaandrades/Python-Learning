{
 "cells": [
  {
   "cell_type": "markdown",
   "id": "cb1e3a37",
   "metadata": {},
   "source": [
    "## Immutability\n",
    "Strings are inmutable!"
   ]
  },
  {
   "cell_type": "code",
   "execution_count": 1,
   "id": "2a36bd52",
   "metadata": {},
   "outputs": [],
   "source": [
    "name = \"Sam\""
   ]
  },
  {
   "cell_type": "code",
   "execution_count": 3,
   "id": "b5d0b4a4",
   "metadata": {},
   "outputs": [],
   "source": [
    "name[0] = \"P\" #TypeError: 'str' object does not support item assignment, you can't assign a letter to index string"
   ]
  },
  {
   "cell_type": "code",
   "execution_count": 6,
   "id": "f5a39197",
   "metadata": {},
   "outputs": [
    {
     "name": "stdout",
     "output_type": "stream",
     "text": [
      "Pam\n"
     ]
    }
   ],
   "source": [
    "lastLetters = name[1:]\n",
    "newName = \"P\"+lastLetters\n",
    "print(newName)"
   ]
  },
  {
   "cell_type": "code",
   "execution_count": 9,
   "id": "672370e6",
   "metadata": {},
   "outputs": [
    {
     "name": "stdout",
     "output_type": "stream",
     "text": [
      "Hello World its beautiful outside!\n"
     ]
    }
   ],
   "source": [
    "x = \"Hello World\" + \" its beautiful outside!\"\n",
    "print(x)"
   ]
  },
  {
   "cell_type": "code",
   "execution_count": 10,
   "id": "6b6d8e06",
   "metadata": {},
   "outputs": [
    {
     "data": {
      "text/plain": [
       "'zzzzzzzzzz'"
      ]
     },
     "execution_count": 10,
     "metadata": {},
     "output_type": "execute_result"
    }
   ],
   "source": [
    "letter = \"z\"\n",
    "letter * 10"
   ]
  },
  {
   "cell_type": "markdown",
   "id": "b1ea572f",
   "metadata": {},
   "source": [
    "### Useful functions"
   ]
  },
  {
   "cell_type": "code",
   "execution_count": 18,
   "id": "2459278c",
   "metadata": {},
   "outputs": [
    {
     "data": {
      "text/plain": [
       "['NEW', 'STRING']"
      ]
     },
     "execution_count": 18,
     "metadata": {},
     "output_type": "execute_result"
    }
   ],
   "source": [
    "x = \"new string\"\n",
    "x.capitalize() #dot and hit tab!\n",
    "x.upper().split()"
   ]
  },
  {
   "cell_type": "markdown",
   "id": "e03fcbdc",
   "metadata": {},
   "source": [
    "### Formating strings\n",
    ".format()\n",
    "t-strings"
   ]
  },
  {
   "cell_type": "code",
   "execution_count": 22,
   "id": "155746bc",
   "metadata": {},
   "outputs": [
    {
     "name": "stdout",
     "output_type": "stream",
     "text": [
      "This is the greeting: Hello Andres\n"
     ]
    }
   ],
   "source": [
    "greeting = \"Hello\"\n",
    "name = \"Andres\"\n",
    "print(\"This is the greeting: {} {}\".format(greeting, name))"
   ]
  },
  {
   "cell_type": "code",
   "execution_count": 25,
   "id": "424d082c",
   "metadata": {},
   "outputs": [
    {
     "name": "stdout",
     "output_type": "stream",
     "text": [
      "This is the greeting: Hello Andres\n"
     ]
    }
   ],
   "source": [
    "print(\"This is the greeting: {a} {b}\".format(a=greeting, b=name))"
   ]
  },
  {
   "cell_type": "markdown",
   "id": "d058032f",
   "metadata": {},
   "source": [
    "#### Float formating\n",
    "Float formating follow \"{value:width.precision f}\""
   ]
  },
  {
   "cell_type": "code",
   "execution_count": 27,
   "id": "770c7891",
   "metadata": {},
   "outputs": [
    {
     "data": {
      "text/plain": [
       "float"
      ]
     },
     "execution_count": 27,
     "metadata": {},
     "output_type": "execute_result"
    }
   ],
   "source": [
    "result = 100/777\n",
    "type(result)"
   ]
  },
  {
   "cell_type": "code",
   "execution_count": 28,
   "id": "ee72fcd3",
   "metadata": {},
   "outputs": [
    {
     "data": {
      "text/plain": [
       "0.1287001287001287"
      ]
     },
     "execution_count": 28,
     "metadata": {},
     "output_type": "execute_result"
    }
   ],
   "source": [
    "result"
   ]
  },
  {
   "cell_type": "code",
   "execution_count": 33,
   "id": "42052cf2",
   "metadata": {},
   "outputs": [
    {
     "name": "stdout",
     "output_type": "stream",
     "text": [
      "The result was 0.129\n"
     ]
    }
   ],
   "source": [
    "print(\"The result was {r:1.3}\".format(r = result)) # Get the unit and three decimals"
   ]
  },
  {
   "cell_type": "markdown",
   "id": "ef8c0ec3",
   "metadata": {},
   "source": [
    "### T-string"
   ]
  },
  {
   "cell_type": "code",
   "execution_count": 39,
   "id": "6d1a7b7a",
   "metadata": {},
   "outputs": [
    {
     "name": "stdout",
     "output_type": "stream",
     "text": [
      "Hello, his name is Andres\n",
      "My full name is Andres\n"
     ]
    }
   ],
   "source": [
    "name = \"Andres\"\n",
    "print(f\"Hello, his name is {name}\")\n",
    "fullName = f\"My full name is {name}\"\n",
    "print(fullName)"
   ]
  },
  {
   "cell_type": "code",
   "execution_count": 40,
   "id": "81efc291",
   "metadata": {},
   "outputs": [
    {
     "data": {
      "text/plain": [
       "'I have built and application with React and NodeJs and Django'"
      ]
     },
     "execution_count": 40,
     "metadata": {},
     "output_type": "execute_result"
    }
   ],
   "source": [
    "frontendFramework = \"React\"\n",
    "backendFramework = \"NodeJs and Django\"\n",
    "fullstackApp = f\"I have built and application with {frontendFramework} and {backendFramework}\"\n",
    "fullstackApp"
   ]
  }
 ],
 "metadata": {
  "kernelspec": {
   "display_name": "Python 3 (ipykernel)",
   "language": "python",
   "name": "python3"
  },
  "language_info": {
   "codemirror_mode": {
    "name": "ipython",
    "version": 3
   },
   "file_extension": ".py",
   "mimetype": "text/x-python",
   "name": "python",
   "nbconvert_exporter": "python",
   "pygments_lexer": "ipython3",
   "version": "3.9.7"
  }
 },
 "nbformat": 4,
 "nbformat_minor": 5
}
