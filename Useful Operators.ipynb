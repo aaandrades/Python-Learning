{
 "cells": [
  {
   "cell_type": "markdown",
   "id": "9fb894fc",
   "metadata": {},
   "source": [
    "### Useful operators"
   ]
  },
  {
   "cell_type": "code",
   "execution_count": 3,
   "id": "77522ab6",
   "metadata": {},
   "outputs": [
    {
     "name": "stdout",
     "output_type": "stream",
     "text": [
      "3\n",
      "5\n",
      "7\n",
      "9\n"
     ]
    }
   ],
   "source": [
    "myList = [1,2,3]\n",
    "for num in range(3,10,2): # Generate list in a range\n",
    "    print(num)"
   ]
  },
  {
   "cell_type": "code",
   "execution_count": 4,
   "id": "c60e477e",
   "metadata": {},
   "outputs": [
    {
     "data": {
      "text/plain": [
       "[0, 1, 2, 3, 4, 5, 6, 7, 8, 9]"
      ]
     },
     "execution_count": 4,
     "metadata": {},
     "output_type": "execute_result"
    }
   ],
   "source": [
    "list(range(10)) # Generates a list secuently"
   ]
  },
  {
   "cell_type": "code",
   "execution_count": 7,
   "id": "abc34aad",
   "metadata": {},
   "outputs": [
    {
     "name": "stdout",
     "output_type": "stream",
     "text": [
      "a at index 0\n",
      "b at index 1\n",
      "c at index 2\n",
      "d at index 3\n"
     ]
    }
   ],
   "source": [
    "word = 'abcd'\n",
    "for index, letter in enumerate(word): # Get the index in tuple\n",
    "    print(f\"{letter} at index {index}\")"
   ]
  },
  {
   "cell_type": "code",
   "execution_count": 11,
   "id": "400a5403",
   "metadata": {},
   "outputs": [
    {
     "data": {
      "text/plain": [
       "<zip at 0x241987e6300>"
      ]
     },
     "execution_count": 11,
     "metadata": {},
     "output_type": "execute_result"
    }
   ],
   "source": [
    "myList1 = [1,2,3,4]\n",
    "myList2 = ['5','6','7','8']\n",
    "myList3 = [100, 200, 300]\n",
    "zip(myList, myList2)"
   ]
  },
  {
   "cell_type": "code",
   "execution_count": 13,
   "id": "5b8efca6",
   "metadata": {},
   "outputs": [
    {
     "name": "stdout",
     "output_type": "stream",
     "text": [
      "(1, '5', 100)\n",
      "(2, '6', 200)\n",
      "(3, '7', 300)\n"
     ]
    }
   ],
   "source": [
    "for item in zip(myList1, myList2, myList3): #Convert a list intercaleted with the minimum size.\n",
    "    print(item)"
   ]
  },
  {
   "cell_type": "code",
   "execution_count": 16,
   "id": "ae05b7fb",
   "metadata": {},
   "outputs": [
    {
     "data": {
      "text/plain": [
       "True"
      ]
     },
     "execution_count": 16,
     "metadata": {},
     "output_type": "execute_result"
    }
   ],
   "source": [
    "indexContainer = [1,2,3]\n",
    "1 in indexContainer # Equivalent of contains\n",
    "'a' in 'Hello World ha!'\n",
    "'key' in {'key': 'any value'}"
   ]
  },
  {
   "cell_type": "code",
   "execution_count": 19,
   "id": "03fd9b6c",
   "metadata": {},
   "outputs": [
    {
     "name": "stdout",
     "output_type": "stream",
     "text": [
      "1\n",
      "6\n"
     ]
    }
   ],
   "source": [
    "numberList = [1,2,3,4,5,6]\n",
    "print(min(numberList)) #Return the min\n",
    "print(max(numberList)) #Return the max"
   ]
  },
  {
   "cell_type": "code",
   "execution_count": 21,
   "id": "2bed7c57",
   "metadata": {},
   "outputs": [],
   "source": [
    "from random import shuffle # How import packages"
   ]
  },
  {
   "cell_type": "code",
   "execution_count": 29,
   "id": "54eb099a",
   "metadata": {},
   "outputs": [
    {
     "name": "stdout",
     "output_type": "stream",
     "text": [
      "None\n"
     ]
    },
    {
     "data": {
      "text/plain": [
       "[6, 1, 2, 7, 5, 8, 9, 4, 3]"
      ]
     },
     "execution_count": 29,
     "metadata": {},
     "output_type": "execute_result"
    }
   ],
   "source": [
    "newList = [1,2,3,4,5,6,7,8,9]\n",
    "print(shuffle(newList)) # Generate random order inside elements of list\n",
    "newList"
   ]
  },
  {
   "cell_type": "code",
   "execution_count": 30,
   "id": "127ad6c4",
   "metadata": {},
   "outputs": [
    {
     "data": {
      "text/plain": [
       "100"
      ]
     },
     "execution_count": 30,
     "metadata": {},
     "output_type": "execute_result"
    }
   ],
   "source": [
    "from random import randint\n",
    "randint(0,100) # Generate random id"
   ]
  },
  {
   "cell_type": "code",
   "execution_count": 33,
   "id": "3dcf30d7",
   "metadata": {},
   "outputs": [
    {
     "name": "stdout",
     "output_type": "stream",
     "text": [
      "Enter a new number\n",
      "You enter: \n"
     ]
    }
   ],
   "source": [
    "newInput = input('Enter a new number') # Get user input\n",
    "print(f\"You enter: {newInput}\")"
   ]
  }
 ],
 "metadata": {
  "kernelspec": {
   "display_name": "Python 3 (ipykernel)",
   "language": "python",
   "name": "python3"
  },
  "language_info": {
   "codemirror_mode": {
    "name": "ipython",
    "version": 3
   },
   "file_extension": ".py",
   "mimetype": "text/x-python",
   "name": "python",
   "nbconvert_exporter": "python",
   "pygments_lexer": "ipython3",
   "version": "3.9.7"
  }
 },
 "nbformat": 4,
 "nbformat_minor": 5
}
