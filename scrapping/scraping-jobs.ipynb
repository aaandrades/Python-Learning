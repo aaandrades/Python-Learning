{
 "cells": [
  {
   "cell_type": "markdown",
   "metadata": {},
   "source": [
    "## Scraping jobs from Indeed.ca\n"
   ]
  },
  {
   "cell_type": "code",
   "execution_count": 1,
   "metadata": {},
   "outputs": [],
   "source": [
    "import requests\n",
    "import bs4\n"
   ]
  },
  {
   "cell_type": "code",
   "execution_count": 3,
   "metadata": {},
   "outputs": [],
   "source": [
    "request = requests.get(\n",
    "    \"https://ca.indeed.com/jobs?q=developer&l=Canada&vjk=154ee9f96d89ee50\")\n"
   ]
  },
  {
   "cell_type": "code",
   "execution_count": 4,
   "metadata": {},
   "outputs": [],
   "source": [
    "soup = bs4.BeautifulSoup(request.text, 'lxml')\n"
   ]
  },
  {
   "cell_type": "markdown",
   "metadata": {},
   "source": [
    "| Syntax                      | Match Results                                                                   |\n",
    "| --------------------------- | ------------------------------------------------------------------------------- |\n",
    "| soup.select('div)           | All elements with 'div' tag.                                                    |\n",
    "| soup.select('#some_id')     | Elmeents containnig id =\"some_id\".                                              |\n",
    "| soups.select('.some_class') | Elements containing class = \"some_class\".                                       |\n",
    "| soups.select('div span')    | Any elements named span within a div element.                                   |\n",
    "| soups.select('div > span')  | Any elements named span directly within a div element, with nothing in between. |\n"
   ]
  },
  {
   "cell_type": "code",
   "execution_count": 11,
   "metadata": {},
   "outputs": [
    {
     "name": "stdout",
     "output_type": "stream",
     "text": [
      "Software Engineer: Intern Opportunities\n",
      "Software Developer, Early Career\n",
      "Frontend Developer, Experience\n",
      "Software Developer\n",
      "Junior Web Developer\n",
      "SP-05 – Web Developer (Equivalent to AS-02 & PM-02)\n",
      "Junior Software Developer\n",
      "Software Developer Student\n",
      "Software Developer - NetSuite - Order to Cash\n",
      "Entry Level Software Developer\n",
      "software developer\n",
      "Junior Frontend Software Developer\n",
      "Junior Web Developer\n",
      "Software Developer Intern\n",
      "Automation Developer\n"
     ]
    }
   ],
   "source": [
    "titles = soup.select('h2 > span')\n",
    "\n",
    "for title in titles:\n",
    "    print(title.text)\n"
   ]
  },
  {
   "cell_type": "code",
   "execution_count": null,
   "metadata": {},
   "outputs": [],
   "source": []
  }
 ],
 "metadata": {
  "interpreter": {
   "hash": "3cb03880b4f382b215e58b98e1ca54bf457bb98ca2d54d3971040d96e230fe65"
  },
  "kernelspec": {
   "display_name": "Python 3.9.7 ('base')",
   "language": "python",
   "name": "python3"
  },
  "language_info": {
   "codemirror_mode": {
    "name": "ipython",
    "version": 3
   },
   "file_extension": ".py",
   "mimetype": "text/x-python",
   "name": "python",
   "nbconvert_exporter": "python",
   "pygments_lexer": "ipython3",
   "version": "3.9.7"
  },
  "orig_nbformat": 4
 },
 "nbformat": 4,
 "nbformat_minor": 2
}
