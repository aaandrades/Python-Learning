{
 "cells": [
  {
   "cell_type": "markdown",
   "metadata": {},
   "source": [
    "### Web Scraping\n",
    "\n",
    "- Rules of Web Scraping:\n",
    "  - Always try to get permission before scraping!\n",
    "  - If you make too many scraping attempts or request your IP Address could get blocked!\n",
    "  - Some sites automatically block scraping software.\n",
    "\n",
    "- Limitationes of web scraping:\n",
    "  - In general, every website is unique, which means every web scraping script is unique.\n",
    "  - A slight change or update to a website may completetly rbeack your web scraping script."
   ]
  },
  {
   "cell_type": "code",
   "execution_count": null,
   "metadata": {},
   "outputs": [],
   "source": []
  }
 ],
 "metadata": {
  "language_info": {
   "name": "python"
  },
  "orig_nbformat": 4
 },
 "nbformat": 4,
 "nbformat_minor": 2
}
