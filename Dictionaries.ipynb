{
 "cells": [
  {
   "cell_type": "markdown",
   "id": "1e62d1db",
   "metadata": {},
   "source": [
    "### Dictionaries\n",
    "\n",
    "- Dictionaries are unordered mappings for storign objects. Previously we sae how lists store objects in an ordered sequence, dictionaries use a key-value pairing instead.\n",
    "- This key-value pair allows useres to quickly grab objects without needing to know an index location. \n",
    "\n",
    "- Dictionaries are mutables!"
   ]
  },
  {
   "cell_type": "code",
   "execution_count": null,
   "id": "e279dbff",
   "metadata": {},
   "outputs": [],
   "source": []
  },
  {
   "cell_type": "code",
   "execution_count": null,
   "id": "85e5dc6a",
   "metadata": {},
   "outputs": [],
   "source": []
  },
  {
   "cell_type": "markdown",
   "id": "46c1165e",
   "metadata": {},
   "source": [
    "#### Dictionaries and Lists\n",
    "Dictionaries: Objects retrieved by key name. Unordered and cannot be sorted.\n",
    "List: Objects retriebed by location. Ordered sequence can be indexed or sliced."
   ]
  },
  {
   "cell_type": "code",
   "execution_count": 2,
   "id": "a7b13fff",
   "metadata": {},
   "outputs": [
    {
     "data": {
      "text/plain": [
       "{'key1': 'value1', 'key2': 'value2'}"
      ]
     },
     "execution_count": 2,
     "metadata": {},
     "output_type": "execute_result"
    }
   ],
   "source": [
    "myDict = { \"key1\": \"value1\",\"key2\":\"value2\"}\n",
    "myDict"
   ]
  },
  {
   "cell_type": "code",
   "execution_count": 3,
   "id": "adcba9ac",
   "metadata": {},
   "outputs": [
    {
     "data": {
      "text/plain": [
       "'value1'"
      ]
     },
     "execution_count": 3,
     "metadata": {},
     "output_type": "execute_result"
    }
   ],
   "source": [
    "myDict['key1']"
   ]
  },
  {
   "cell_type": "code",
   "execution_count": 4,
   "id": "df1361a3",
   "metadata": {},
   "outputs": [
    {
     "data": {
      "text/plain": [
       "2.99"
      ]
     },
     "execution_count": 4,
     "metadata": {},
     "output_type": "execute_result"
    }
   ],
   "source": [
    "pricesLookup = {\"apple\": 2.99, \"oranges\": 1.99, \"milk\": 5.80}\n",
    "pricesLookup[\"apple\"]"
   ]
  },
  {
   "cell_type": "code",
   "execution_count": 5,
   "id": "a882b3dc",
   "metadata": {},
   "outputs": [
    {
     "data": {
      "text/plain": [
       "{'k1': 123, 'k2': [1, 2, 3], 'k3': {'keyInside1': 'name'}}"
      ]
     },
     "execution_count": 5,
     "metadata": {},
     "output_type": "execute_result"
    }
   ],
   "source": [
    "d = {'k1':123, 'k2': [1,2,3], 'k3':{'keyInside1': 'name'}}\n",
    "d"
   ]
  },
  {
   "cell_type": "code",
   "execution_count": 6,
   "id": "f3956344",
   "metadata": {},
   "outputs": [
    {
     "data": {
      "text/plain": [
       "'name'"
      ]
     },
     "execution_count": 6,
     "metadata": {},
     "output_type": "execute_result"
    }
   ],
   "source": [
    "d['k3']['keyInside1']"
   ]
  },
  {
   "cell_type": "code",
   "execution_count": 7,
   "id": "09d395e8",
   "metadata": {},
   "outputs": [
    {
     "data": {
      "text/plain": [
       "dict_keys(['k1', 'k2', 'k3'])"
      ]
     },
     "execution_count": 7,
     "metadata": {},
     "output_type": "execute_result"
    }
   ],
   "source": [
    "d.keys()"
   ]
  },
  {
   "cell_type": "code",
   "execution_count": 8,
   "id": "d0dad53c",
   "metadata": {},
   "outputs": [
    {
     "data": {
      "text/plain": [
       "dict_values([123, [1, 2, 3], {'keyInside1': 'name'}])"
      ]
     },
     "execution_count": 8,
     "metadata": {},
     "output_type": "execute_result"
    }
   ],
   "source": [
    "d.values()"
   ]
  },
  {
   "cell_type": "code",
   "execution_count": 9,
   "id": "79b9106a",
   "metadata": {},
   "outputs": [
    {
     "data": {
      "text/plain": [
       "dict_items([('k1', 123), ('k2', [1, 2, 3]), ('k3', {'keyInside1': 'name'})])"
      ]
     },
     "execution_count": 9,
     "metadata": {},
     "output_type": "execute_result"
    }
   ],
   "source": [
    "d.items()"
   ]
  }
 ],
 "metadata": {
  "kernelspec": {
   "display_name": "Python 3 (ipykernel)",
   "language": "python",
   "name": "python3"
  },
  "language_info": {
   "codemirror_mode": {
    "name": "ipython",
    "version": 3
   },
   "file_extension": ".py",
   "mimetype": "text/x-python",
   "name": "python",
   "nbconvert_exporter": "python",
   "pygments_lexer": "ipython3",
   "version": "3.9.7"
  }
 },
 "nbformat": 4,
 "nbformat_minor": 5
}
