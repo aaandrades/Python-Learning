{
 "cells": [
  {
   "cell_type": "markdown",
   "id": "74203136",
   "metadata": {},
   "source": [
    "## Functions\n",
    "\n",
    "The functions are block codes that allow to reuse code and call it many times as you need.\n",
    "Start with keyword 'def' and before, the name;\n",
    "\n",
    "Use always snake_case in Python, wheter functions or variables."
   ]
  },
  {
   "cell_type": "code",
   "execution_count": 6,
   "id": "2c1920a5",
   "metadata": {},
   "outputs": [],
   "source": [
    "def say_hello(name):\n",
    "    '''\n",
    "    Docstring explains functions. Documentation.\n",
    "    '''\n",
    "    print(f\"Hi, im a function: {name}\")"
   ]
  },
  {
   "cell_type": "code",
   "execution_count": 7,
   "id": "8886ba74",
   "metadata": {
    "scrolled": true
   },
   "outputs": [
    {
     "name": "stdout",
     "output_type": "stream",
     "text": [
      "Hi, im a function: Andyman\n"
     ]
    }
   ],
   "source": [
    "say_hello(\"Andyman\")"
   ]
  },
  {
   "cell_type": "code",
   "execution_count": 8,
   "id": "062c3b0f",
   "metadata": {},
   "outputs": [],
   "source": [
    "def functions_with_default( value = 123): # Default prop\n",
    "    return value*2"
   ]
  },
  {
   "cell_type": "code",
   "execution_count": 10,
   "id": "b11dffb9",
   "metadata": {},
   "outputs": [
    {
     "data": {
      "text/plain": [
       "4"
      ]
     },
     "execution_count": 10,
     "metadata": {},
     "output_type": "execute_result"
    }
   ],
   "source": [
    "functions_with_default(2)"
   ]
  },
  {
   "cell_type": "code",
   "execution_count": null,
   "id": "ef49d673",
   "metadata": {},
   "outputs": [],
   "source": []
  }
 ],
 "metadata": {
  "kernelspec": {
   "display_name": "Python 3 (ipykernel)",
   "language": "python",
   "name": "python3"
  },
  "language_info": {
   "codemirror_mode": {
    "name": "ipython",
    "version": 3
   },
   "file_extension": ".py",
   "mimetype": "text/x-python",
   "name": "python",
   "nbconvert_exporter": "python",
   "pygments_lexer": "ipython3",
   "version": "3.9.7"
  }
 },
 "nbformat": 4,
 "nbformat_minor": 5
}
