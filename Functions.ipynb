{
 "cells": [
  {
   "cell_type": "markdown",
   "id": "18c5196b",
   "metadata": {},
   "source": [
    "## Functions\n",
    "\n",
    "The functions are block codes that allow to reuse code and call it many times as you need.\n",
    "Start with keyword 'def' and before, the name;\n",
    "\n",
    "Use always snake_case in Python, wheter functions or variables."
   ]
  },
  {
   "cell_type": "code",
   "execution_count": 6,
   "id": "3e813d25",
   "metadata": {},
   "outputs": [],
   "source": [
    "def say_hello(name):\n",
    "    '''\n",
    "    Docstring explains functions. Documentation.\n",
    "    '''\n",
    "    print(f\"Hi, im a function: {name}\")"
   ]
  },
  {
   "cell_type": "code",
   "execution_count": 7,
   "id": "546c4dfa",
   "metadata": {
    "scrolled": true
   },
   "outputs": [
    {
     "name": "stdout",
     "output_type": "stream",
     "text": [
      "Hi, im a function: Andyman\n"
     ]
    }
   ],
   "source": [
    "say_hello(\"Andyman\")"
   ]
  },
  {
   "cell_type": "code",
   "execution_count": 8,
   "id": "9cc201c2",
   "metadata": {},
   "outputs": [],
   "source": [
    "def functions_with_default( value = 123): # Default prop\n",
    "    return value*2"
   ]
  },
  {
   "cell_type": "code",
   "execution_count": 10,
   "id": "1d91b9b1",
   "metadata": {},
   "outputs": [
    {
     "data": {
      "text/plain": [
       "4"
      ]
     },
     "execution_count": 10,
     "metadata": {},
     "output_type": "execute_result"
    }
   ],
   "source": [
    "functions_with_default(2)"
   ]
  },
  {
   "cell_type": "code",
   "execution_count": 17,
   "id": "5245a3d0",
   "metadata": {},
   "outputs": [],
   "source": [
    "def is_odd(n):\n",
    "    odd = True;\n",
    "    if n % 2 == 0:\n",
    "        odd = False\n",
    "    return odd\n"
   ]
  },
  {
   "cell_type": "code",
   "execution_count": 19,
   "id": "58838482",
   "metadata": {},
   "outputs": [
    {
     "data": {
      "text/plain": [
       "False"
      ]
     },
     "execution_count": 19,
     "metadata": {},
     "output_type": "execute_result"
    }
   ],
   "source": [
    "is_odd(24)"
   ]
  },
  {
   "cell_type": "code",
   "execution_count": 22,
   "id": "316469f4",
   "metadata": {},
   "outputs": [
    {
     "name": "stdout",
     "output_type": "stream",
     "text": [
      "('APPLE', 200)\n",
      "('GOOGLE', 400)\n",
      "('MICROSOFT', 100)\n",
      "The price for APPLE its 200\n",
      "The price for GOOGLE its 400\n",
      "The price for MICROSOFT its 100\n"
     ]
    }
   ],
   "source": [
    "stock_prices = [('APPLE', 200), ('GOOGLE', 400), ('MICROSOFT', 100)]\n",
    "for item in stock_prices:\n",
    "    print(item)\n",
    "for ticker, price in stock_prices:\n",
    "    print(f\"The price for {ticker} its {price}\")"
   ]
  },
  {
   "cell_type": "code",
   "execution_count": 26,
   "id": "413f6a1d",
   "metadata": {},
   "outputs": [],
   "source": [
    "def get_best_employee(employees):\n",
    "    max_hours = 0;\n",
    "    best_employee = ''\n",
    "    for name, days in employees:\n",
    "        if (days > max_hours):\n",
    "            max_hours = days\n",
    "            best_employee = name\n",
    "    return (best_employee, max_hours)\n",
    "    #return f\"the best employee is {best_employee} with {max_hours}\"\n",
    "\n",
    "employees = [('Andres', 100),('Alexander', 98),('Andrade', 100)]\n",
    "result = get_best_employee(employees)"
   ]
  },
  {
   "cell_type": "code",
   "execution_count": 30,
   "id": "b85562bb",
   "metadata": {},
   "outputs": [
    {
     "data": {
      "text/plain": [
       "'Andres'"
      ]
     },
     "execution_count": 30,
     "metadata": {},
     "output_type": "execute_result"
    }
   ],
   "source": [
    "best_employee, max_hours = result  # Like destructuration in JS - Its called Tuple unpacking\n",
    "best_employee"
   ]
  },
  {
   "cell_type": "code",
   "execution_count": 32,
   "id": "aa555b5a",
   "metadata": {},
   "outputs": [
    {
     "data": {
      "text/plain": [
       "('Andres', 100)"
      ]
     },
     "execution_count": 32,
     "metadata": {},
     "output_type": "execute_result"
    }
   ],
   "source": [
    "def call_another_function_inside():\n",
    "    return get_best_employee(employees)\n",
    "\n",
    "result = call_another_function_inside()\n",
    "result"
   ]
  },
  {
   "cell_type": "code",
   "execution_count": 40,
   "id": "fee8b80a",
   "metadata": {},
   "outputs": [],
   "source": [
    "example = [1,2,3,4,5,6,7]\n",
    "from random import shuffle"
   ]
  },
  {
   "cell_type": "code",
   "execution_count": 49,
   "id": "de2b3ad6",
   "metadata": {},
   "outputs": [],
   "source": [
    "def shuffle_list( currentList ):\n",
    "    shuffle(currentList)\n",
    "    return currentList"
   ]
  },
  {
   "cell_type": "code",
   "execution_count": 50,
   "id": "3cc748dc",
   "metadata": {},
   "outputs": [
    {
     "data": {
      "text/plain": [
       "[6, 2, 4, 3, 7, 1, 5]"
      ]
     },
     "execution_count": 50,
     "metadata": {},
     "output_type": "execute_result"
    }
   ],
   "source": [
    "result = shuffle_list(example)\n",
    "result"
   ]
  },
  {
   "cell_type": "code",
   "execution_count": 54,
   "id": "41b5518f",
   "metadata": {},
   "outputs": [
    {
     "data": {
      "text/plain": [
       "[' ', 'O', ' ']"
      ]
     },
     "execution_count": 54,
     "metadata": {},
     "output_type": "execute_result"
    }
   ],
   "source": [
    "game_list = [' ', 'O', ' ']\n",
    "shuffle_list(game_list)"
   ]
  },
  {
   "cell_type": "code",
   "execution_count": 66,
   "id": "e9bc59ee",
   "metadata": {},
   "outputs": [],
   "source": [
    "def player_guess():\n",
    "    guess = ''\n",
    "    while guess not in ['0','1','2']:\n",
    "        guess = input(\"Pick a number: 0, 1, 2\")\n",
    "        print(guess)\n",
    "        if (game_list[int(guess)] == 'O'):\n",
    "            print('You win!')\n",
    "            print(game_list)\n",
    "        else:\n",
    "            print('you loose')\n",
    "        "
   ]
  },
  {
   "cell_type": "code",
   "execution_count": 67,
   "id": "200778e5",
   "metadata": {},
   "outputs": [
    {
     "name": "stdout",
     "output_type": "stream",
     "text": [
      "Pick a number: 0, 1, 22\n",
      "2\n",
      "you loose\n"
     ]
    }
   ],
   "source": [
    "player_guess()"
   ]
  },
  {
   "cell_type": "markdown",
   "id": "88cb4e01",
   "metadata": {},
   "source": [
    "## '*args and **kwards\n",
    "\n",
    "Allow to send a lot of props without declaration"
   ]
  },
  {
   "cell_type": "code",
   "execution_count": 71,
   "id": "7f982157",
   "metadata": {},
   "outputs": [
    {
     "name": "stdout",
     "output_type": "stream",
     "text": [
      "(1, 2, 3, 4)\n"
     ]
    },
    {
     "data": {
      "text/plain": [
       "10"
      ]
     },
     "execution_count": 71,
     "metadata": {},
     "output_type": "execute_result"
    }
   ],
   "source": [
    "def my_func(*args):   # Get whatever information the user send and will be treated as a tuple\n",
    "    print(args)\n",
    "    return sum(args)\n",
    "\n",
    "my_func(1,2,3,4)"
   ]
  },
  {
   "cell_type": "code",
   "execution_count": 73,
   "id": "061ac006",
   "metadata": {},
   "outputs": [
    {
     "name": "stdout",
     "output_type": "stream",
     "text": [
      "{'fruit': 'apple', 'veggie': 'lettuce'}\n"
     ]
    }
   ],
   "source": [
    "def my_func_with_k(**kwargs): # Get whatever information the user send and will be treated as a dictionary\n",
    "    print(kwargs) \n",
    "my_func_with_k(fruit=\"apple\",veggie=\"lettuce\")"
   ]
  },
  {
   "cell_type": "code",
   "execution_count": 74,
   "id": "a95e086c",
   "metadata": {},
   "outputs": [
    {
     "name": "stdout",
     "output_type": "stream",
     "text": [
      "I would like 10 eggs\n"
     ]
    }
   ],
   "source": [
    "def mixed_function(*args, **kwargs):\n",
    "    print(f\"I would like {args[0]} {kwargs['food']}\")\n",
    "    \n",
    "mixed_function(10,20,30,fruit=\"orange\", food=\"eggs\")"
   ]
  },
  {
   "cell_type": "code",
   "execution_count": 95,
   "id": "d026259d",
   "metadata": {},
   "outputs": [
    {
     "data": {
      "text/plain": [
       "'aNtHrOpOmOrPhIsM'"
      ]
     },
     "execution_count": 95,
     "metadata": {},
     "output_type": "execute_result"
    }
   ],
   "source": [
    "def iterate_even( word ):\n",
    "    transformed = \"\"\n",
    "    for index in range(len(word)):\n",
    "        if index % 2 == 0:\n",
    "            transformed = transformed + word[index].lower()\n",
    "        else:\n",
    "            transformed = transformed + word[index].upper()\n",
    "    return transformed\n",
    "\n",
    "myfunc('Anthropomorphism')"
   ]
  },
  {
   "cell_type": "markdown",
   "id": "06360cbd",
   "metadata": {},
   "source": [
    "## Lambda\n",
    "Lambda expresions are a way to quickly create anonymous functions."
   ]
  },
  {
   "cell_type": "code",
   "execution_count": 8,
   "id": "a06c3809",
   "metadata": {},
   "outputs": [],
   "source": [
    "#Map function \n",
    "## Takes a function (first parameter) and iterate throught an array (second parameter)\n",
    "## map  return a list\n",
    "\n",
    "def square_numer( n ):\n",
    "    return n**2\n",
    "\n",
    "my_nums = [1,2,3,4,5]"
   ]
  },
  {
   "cell_type": "code",
   "execution_count": 9,
   "id": "a67110ac",
   "metadata": {},
   "outputs": [
    {
     "name": "stdout",
     "output_type": "stream",
     "text": [
      "1\n",
      "4\n",
      "9\n",
      "16\n",
      "25\n"
     ]
    }
   ],
   "source": [
    "for item in map(square_numer, my_nums):\n",
    "    print(item)"
   ]
  },
  {
   "cell_type": "code",
   "execution_count": 12,
   "id": "1c04c085",
   "metadata": {},
   "outputs": [],
   "source": [
    "def splicer( my_string ):\n",
    "    if len(my_string)%2 == 0:\n",
    "        return 'EVEN'\n",
    "    else:\n",
    "        return 'NOT'\n",
    "\n",
    "names = ['Andy', 'Eve', 'Sally']    "
   ]
  },
  {
   "cell_type": "code",
   "execution_count": 13,
   "id": "549df920",
   "metadata": {},
   "outputs": [
    {
     "data": {
      "text/plain": [
       "['EVEN', 'NOT', 'NOT']"
      ]
     },
     "execution_count": 13,
     "metadata": {},
     "output_type": "execute_result"
    }
   ],
   "source": [
    "list(map(splicer, names))"
   ]
  },
  {
   "cell_type": "code",
   "execution_count": 19,
   "id": "3c9ae628",
   "metadata": {},
   "outputs": [
    {
     "data": {
      "text/plain": [
       "[1, 2, 3, 'EVEN', 'NOT', 'NOT']"
      ]
     },
     "execution_count": 19,
     "metadata": {},
     "output_type": "execute_result"
    }
   ],
   "source": [
    "my_list = [1,2,3, *list(map(splicer,names))]\n",
    "my_list"
   ]
  },
  {
   "cell_type": "code",
   "execution_count": 23,
   "id": "755a9ddc",
   "metadata": {},
   "outputs": [
    {
     "data": {
      "text/plain": [
       "[2, 4, 6]"
      ]
     },
     "execution_count": 23,
     "metadata": {},
     "output_type": "execute_result"
    }
   ],
   "source": [
    "# Filter function\n",
    "## Return all true statements, like filter in Javascript\n",
    "## Filter return a list\n",
    "\n",
    "def check_even( n ):\n",
    "    return n%2 == 0\n",
    "\n",
    "numbers = [1,2,3,4,5,6]\n",
    "list(filter(check_even, numbers))"
   ]
  },
  {
   "cell_type": "code",
   "execution_count": 30,
   "id": "acea4505",
   "metadata": {},
   "outputs": [],
   "source": [
    "# Lambda function\n",
    "square = lambda num: num ** 2"
   ]
  },
  {
   "cell_type": "code",
   "execution_count": 31,
   "id": "42d3ef38",
   "metadata": {},
   "outputs": [
    {
     "data": {
      "text/plain": [
       "4"
      ]
     },
     "execution_count": 31,
     "metadata": {},
     "output_type": "execute_result"
    }
   ],
   "source": [
    "square(2)"
   ]
  },
  {
   "cell_type": "code",
   "execution_count": 34,
   "id": "b537e3d4",
   "metadata": {
    "scrolled": true
   },
   "outputs": [
    {
     "data": {
      "text/plain": [
       "[1, 4, 9, 16, 25, 36]"
      ]
     },
     "execution_count": 34,
     "metadata": {},
     "output_type": "execute_result"
    }
   ],
   "source": [
    "list(map(lambda num: num**2, numbers))"
   ]
  },
  {
   "cell_type": "markdown",
   "id": "0b76cdbb",
   "metadata": {},
   "source": [
    "## Nested statements and Scopes"
   ]
  },
  {
   "cell_type": "code",
   "execution_count": 1,
   "id": "f957b3cf",
   "metadata": {},
   "outputs": [],
   "source": [
    "x = 25\n",
    "def printer():\n",
    "    x = 50\n",
    "    return x"
   ]
  },
  {
   "cell_type": "code",
   "execution_count": 3,
   "id": "2fa4d0e9",
   "metadata": {},
   "outputs": [
    {
     "name": "stdout",
     "output_type": "stream",
     "text": [
      "25\n"
     ]
    }
   ],
   "source": [
    "print(x)"
   ]
  },
  {
   "cell_type": "code",
   "execution_count": 4,
   "id": "a284307d",
   "metadata": {},
   "outputs": [
    {
     "name": "stdout",
     "output_type": "stream",
     "text": [
      "50\n"
     ]
    }
   ],
   "source": [
    "print(printer())"
   ]
  },
  {
   "cell_type": "markdown",
   "id": "36ff8374",
   "metadata": {},
   "source": [
    "### LEGB Rule:\n",
    "- L: Local - Names assigned in any way within a function (def or lambda), and not declared global in that function.\n",
    "- E: Enclosing function local - Names in the local scope of any and all enclosing functions (def or lambda), from inner to outer.\n",
    "- G: Global (module) - Names assigned at the top-level of a module file, or decalred global in a def within the file.\n",
    "- B: Built-in (Python) - Names preassigned in the built-in names module: open, range, SyntaxError, ..."
   ]
  },
  {
   "cell_type": "code",
   "execution_count": 5,
   "id": "206a6466",
   "metadata": {},
   "outputs": [
    {
     "name": "stdout",
     "output_type": "stream",
     "text": [
      "50\n",
      "Reasigned\n"
     ]
    }
   ],
   "source": [
    "x = 50\n",
    "def func():\n",
    "    global x\n",
    "    print(x)\n",
    "    x = 'Reasigned'\n",
    "    print(x)\n",
    "func()"
   ]
  },
  {
   "cell_type": "code",
   "execution_count": 6,
   "id": "28dd400a",
   "metadata": {},
   "outputs": [
    {
     "data": {
      "text/plain": [
       "'Reasigned'"
      ]
     },
     "execution_count": 6,
     "metadata": {},
     "output_type": "execute_result"
    }
   ],
   "source": [
    "x"
   ]
  },
  {
   "cell_type": "code",
   "execution_count": null,
   "id": "7da7347e",
   "metadata": {},
   "outputs": [],
   "source": []
  }
 ],
 "metadata": {
  "kernelspec": {
   "display_name": "Python 3 (ipykernel)",
   "language": "python",
   "name": "python3"
  },
  "language_info": {
   "codemirror_mode": {
    "name": "ipython",
    "version": 3
   },
   "file_extension": ".py",
   "mimetype": "text/x-python",
   "name": "python",
   "nbconvert_exporter": "python",
   "pygments_lexer": "ipython3",
   "version": "3.9.7"
  }
 },
 "nbformat": 4,
 "nbformat_minor": 5
}
