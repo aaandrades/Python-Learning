{
 "cells": [
  {
   "cell_type": "markdown",
   "id": "242efabe",
   "metadata": {},
   "source": [
    "## Object Oriented Programming\n",
    "\n",
    "Object Oriented Programming allos programmers to create their own objects that have methods and atributes.\n",
    "\n",
    "Recall that after defining a string, list, dictionary, or other objects, you wee able to call methods off of them with the .metho_name() syntax."
   ]
  },
  {
   "cell_type": "code",
   "execution_count": 4,
   "id": "76259532",
   "metadata": {},
   "outputs": [],
   "source": [
    "mylist = [1,2,3]\n",
    "myset = set()"
   ]
  },
  {
   "cell_type": "code",
   "execution_count": 38,
   "id": "f629d877",
   "metadata": {},
   "outputs": [],
   "source": [
    "class Dog():\n",
    "    \n",
    "    # CLASS OBJECT ATTRIBUTE\n",
    "    # Same for any instance of a class\n",
    "    \n",
    "    species = \"mammal\"\n",
    "    \n",
    "    # Constructor of the class\n",
    "    def __init__(self, breed, name, spots):\n",
    "        \n",
    "        # Attributes\n",
    "        # We take in the argument\n",
    "        # Assign it using self.atribute_name\n",
    "        self.breed = breed\n",
    "        self.name = name\n",
    "        \n",
    "        # Expect an Boolean\n",
    "        self.spots = spots\n",
    "    \n",
    "    def walk(self, number):\n",
    "        print(f\"The doggie its walking: {self.name} around {number} times\")"
   ]
  },
  {
   "cell_type": "code",
   "execution_count": 39,
   "id": "2b1dd538",
   "metadata": {},
   "outputs": [],
   "source": [
    "my_dog = Dog('Criollito', 'Isis', False)"
   ]
  },
  {
   "cell_type": "code",
   "execution_count": 40,
   "id": "0b399fe6",
   "metadata": {},
   "outputs": [
    {
     "name": "stdout",
     "output_type": "stream",
     "text": [
      "Criollito\n",
      "Isis\n",
      "False\n"
     ]
    }
   ],
   "source": [
    "type(my_dog)\n",
    "print(my_dog.breed)\n",
    "print(my_dog.name)\n",
    "print(my_dog.spots)"
   ]
  },
  {
   "cell_type": "code",
   "execution_count": 42,
   "id": "d0fcf9f7",
   "metadata": {},
   "outputs": [
    {
     "name": "stdout",
     "output_type": "stream",
     "text": [
      "The doggie its walking: Isis around 3 times\n"
     ]
    }
   ],
   "source": [
    "my_dog.walk(3)"
   ]
  },
  {
   "cell_type": "code",
   "execution_count": null,
   "id": "4c2d6379",
   "metadata": {},
   "outputs": [],
   "source": []
  },
  {
   "cell_type": "code",
   "execution_count": 52,
   "id": "e9aa538c",
   "metadata": {},
   "outputs": [],
   "source": [
    "class Circle():\n",
    "    \n",
    "    # Class object attribute\n",
    "    pi = 3.14\n",
    "    \n",
    "    def __init__(self, radius = 2):\n",
    "        self.radius = radius\n",
    "        self.area = radius**radius*self.pi\n",
    "        \n",
    "    def get_circumference(self):\n",
    "        return self.radius * self.pi *2"
   ]
  },
  {
   "cell_type": "code",
   "execution_count": 53,
   "id": "316119c6",
   "metadata": {},
   "outputs": [],
   "source": [
    "my_circle = Circle()"
   ]
  },
  {
   "cell_type": "code",
   "execution_count": 54,
   "id": "257063b4",
   "metadata": {},
   "outputs": [
    {
     "data": {
      "text/plain": [
       "12.56"
      ]
     },
     "execution_count": 54,
     "metadata": {},
     "output_type": "execute_result"
    }
   ],
   "source": [
    "my_circle.get_circumference()"
   ]
  },
  {
   "cell_type": "code",
   "execution_count": 55,
   "id": "6860ce40",
   "metadata": {},
   "outputs": [
    {
     "data": {
      "text/plain": [
       "12.56"
      ]
     },
     "execution_count": 55,
     "metadata": {},
     "output_type": "execute_result"
    }
   ],
   "source": [
    "my_circle.area"
   ]
  },
  {
   "cell_type": "markdown",
   "id": "3c69c051",
   "metadata": {},
   "source": [
    "### Inheritance and Polymorphism\n",
    "\n",
    "Inheritance: A way to form new classes using classes that have already been defined.\n",
    "Polymorphism:"
   ]
  },
  {
   "cell_type": "code",
   "execution_count": 60,
   "id": "7dc40e5b",
   "metadata": {},
   "outputs": [],
   "source": [
    "class Animal():\n",
    "    def __init__ (self):\n",
    "        print('ANIMAL CREATED')\n",
    "    \n",
    "    def who_am_i (self):\n",
    "        print('Im an animal')\n",
    "    \n",
    "    def eat (self):\n",
    "        print('Im eating')"
   ]
  },
  {
   "cell_type": "code",
   "execution_count": 66,
   "id": "ec6640d9",
   "metadata": {},
   "outputs": [
    {
     "name": "stdout",
     "output_type": "stream",
     "text": [
      "ANIMAL CREATED\n"
     ]
    }
   ],
   "source": [
    "my_animal = Animal()"
   ]
  },
  {
   "cell_type": "code",
   "execution_count": 72,
   "id": "05f9c698",
   "metadata": {},
   "outputs": [],
   "source": [
    "class Dog(Animal):\n",
    "    \n",
    "    def __init__(self):\n",
    "        Animal.__init__(self)\n",
    "        print('Dog created')\n",
    "        \n",
    "    def who_am_i (self):\n",
    "        print('Im a dog')"
   ]
  },
  {
   "cell_type": "code",
   "execution_count": 73,
   "id": "77bcf52c",
   "metadata": {},
   "outputs": [
    {
     "name": "stdout",
     "output_type": "stream",
     "text": [
      "ANIMAL CREATED\n",
      "Dog created\n"
     ]
    }
   ],
   "source": [
    "my_dog = Dog()"
   ]
  },
  {
   "cell_type": "code",
   "execution_count": 75,
   "id": "3c421578",
   "metadata": {},
   "outputs": [
    {
     "name": "stdout",
     "output_type": "stream",
     "text": [
      "Im eating\n",
      "Im a dog\n"
     ]
    }
   ],
   "source": [
    "my_dog.eat()\n",
    "my_dog.who_am_i()"
   ]
  },
  {
   "cell_type": "markdown",
   "id": "e45e0f45",
   "metadata": {},
   "source": [
    "Polymorphism: Refers to the way in which different object classes can share the same method name, and the those methods can be called from the same place, even though a variety of different object might be pass in."
   ]
  },
  {
   "cell_type": "markdown",
   "id": "e43f4061",
   "metadata": {},
   "source": [
    "----"
   ]
  },
  {
   "cell_type": "markdown",
   "id": "e1cd1141",
   "metadata": {},
   "source": [
    "### Magic or Dundar methods\n",
    "Magic methods in Python are the special methods that start and end with the double underscores. They are also called dunder methods. Magic methods are not meant to be invoked directly by you, but the invocation happens internally from the class on a certain action. "
   ]
  },
  {
   "cell_type": "code",
   "execution_count": 76,
   "id": "19a89068",
   "metadata": {},
   "outputs": [
    {
     "data": {
      "text/plain": [
       "3"
      ]
     },
     "execution_count": 76,
     "metadata": {},
     "output_type": "execute_result"
    }
   ],
   "source": [
    "my_list = [1,2,3]\n",
    "len(my_list)"
   ]
  },
  {
   "cell_type": "code",
   "execution_count": 77,
   "id": "c14cc805",
   "metadata": {},
   "outputs": [],
   "source": [
    "class Sample():\n",
    "    pass"
   ]
  },
  {
   "cell_type": "code",
   "execution_count": 78,
   "id": "a98c3437",
   "metadata": {},
   "outputs": [],
   "source": [
    "my_sample = Sample()"
   ]
  },
  {
   "cell_type": "code",
   "execution_count": 79,
   "id": "b278afbf",
   "metadata": {},
   "outputs": [
    {
     "ename": "TypeError",
     "evalue": "object of type 'Sample' has no len()",
     "output_type": "error",
     "traceback": [
      "\u001b[1;31m---------------------------------------------------------------------------\u001b[0m",
      "\u001b[1;31mTypeError\u001b[0m                                 Traceback (most recent call last)",
      "\u001b[1;32m~\\AppData\\Local\\Temp/ipykernel_4964/1267766502.py\u001b[0m in \u001b[0;36m<module>\u001b[1;34m\u001b[0m\n\u001b[1;32m----> 1\u001b[1;33m \u001b[0mlen\u001b[0m\u001b[1;33m(\u001b[0m\u001b[0mmy_sample\u001b[0m\u001b[1;33m)\u001b[0m\u001b[1;33m\u001b[0m\u001b[1;33m\u001b[0m\u001b[0m\n\u001b[0m",
      "\u001b[1;31mTypeError\u001b[0m: object of type 'Sample' has no len()"
     ]
    }
   ],
   "source": [
    "len(my_sample)"
   ]
  },
  {
   "cell_type": "code",
   "execution_count": 88,
   "id": "89b2a7c7",
   "metadata": {},
   "outputs": [],
   "source": [
    "class Book():\n",
    "    def __init__ (self, title, author, pages):\n",
    "        self.title = title\n",
    "        self.author = author\n",
    "        self.pages = pages\n",
    "    \n",
    "    def __str__(self):\n",
    "        return f\"{self.title} by {self.author}\"\n",
    "    \n",
    "    def __len__(self):\n",
    "        return self.pages\n",
    "\n",
    "    def __del__(self):\n",
    "        return print(\"A book object has been deleted\") "
   ]
  },
  {
   "cell_type": "code",
   "execution_count": 89,
   "id": "daa525aa",
   "metadata": {},
   "outputs": [
    {
     "name": "stdout",
     "output_type": "stream",
     "text": [
      "Python Rocks by Andyman\n"
     ]
    }
   ],
   "source": [
    "b = Book('Python Rocks', 'Andyman', 200)\n",
    "print(b)"
   ]
  },
  {
   "cell_type": "code",
   "execution_count": 90,
   "id": "1576d927",
   "metadata": {},
   "outputs": [
    {
     "data": {
      "text/plain": [
       "200"
      ]
     },
     "execution_count": 90,
     "metadata": {},
     "output_type": "execute_result"
    }
   ],
   "source": [
    "len(b)"
   ]
  },
  {
   "cell_type": "code",
   "execution_count": 91,
   "id": "db8c81f5",
   "metadata": {},
   "outputs": [
    {
     "name": "stdout",
     "output_type": "stream",
     "text": [
      "A book object has been deleted\n"
     ]
    }
   ],
   "source": [
    "del b"
   ]
  }
 ],
 "metadata": {
  "kernelspec": {
   "display_name": "Python 3 (ipykernel)",
   "language": "python",
   "name": "python3"
  },
  "language_info": {
   "codemirror_mode": {
    "name": "ipython",
    "version": 3
   },
   "file_extension": ".py",
   "mimetype": "text/x-python",
   "name": "python",
   "nbconvert_exporter": "python",
   "pygments_lexer": "ipython3",
   "version": "3.9.7"
  }
 },
 "nbformat": 4,
 "nbformat_minor": 5
}
