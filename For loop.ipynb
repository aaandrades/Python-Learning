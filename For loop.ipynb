{
 "cells": [
  {
   "cell_type": "markdown",
   "id": "4eb61c5f",
   "metadata": {},
   "source": [
    "### If / Elif / Else statements\n"
   ]
  },
  {
   "cell_type": "code",
   "execution_count": 1,
   "id": "1e22ae67",
   "metadata": {},
   "outputs": [
    {
     "name": "stdout",
     "output_type": "stream",
     "text": [
      "Yes\n"
     ]
    }
   ],
   "source": [
    "if(True):\n",
    "    print('Yes')"
   ]
  },
  {
   "cell_type": "markdown",
   "id": "b9268133",
   "metadata": {},
   "source": [
    "### For loops\n",
    "\n",
    "iterators over objects.\n",
    "Example: Iterate over the characters in string, or items inside a list."
   ]
  },
  {
   "cell_type": "code",
   "execution_count": 4,
   "id": "9d4ef081",
   "metadata": {},
   "outputs": [
    {
     "name": "stdout",
     "output_type": "stream",
     "text": [
      "Its odd 1\n",
      "It isnt odd 2\n",
      "Its odd 3\n",
      "It isnt odd 4\n",
      "Its odd 5\n",
      "It isnt odd 6\n",
      "Its odd 7\n",
      "It isnt odd 8\n",
      "Its odd 9\n",
      "It isnt odd 10\n"
     ]
    }
   ],
   "source": [
    "# List\n",
    "myIterable = [1,2,3,4,5,6,7,8,9,10]\n",
    "for item in myIterable:\n",
    "    if item % 2 != 0:\n",
    "        print(f'Its odd {item}')\n",
    "    else:\n",
    "        print(f'It isnt odd {item}')"
   ]
  },
  {
   "cell_type": "code",
   "execution_count": 5,
   "id": "798a3550",
   "metadata": {},
   "outputs": [
    {
     "name": "stdout",
     "output_type": "stream",
     "text": [
      "H\n",
      "e\n",
      "l\n",
      "l\n",
      "o\n",
      " \n",
      "W\n",
      "o\n",
      "r\n",
      "l\n",
      "d\n"
     ]
    }
   ],
   "source": [
    "# String\n",
    "myString = \"Hello World\"\n",
    "for letter in myString:\n",
    "    print(letter)"
   ]
  },
  {
   "cell_type": "code",
   "execution_count": 7,
   "id": "ba6146d1",
   "metadata": {},
   "outputs": [
    {
     "name": "stdout",
     "output_type": "stream",
     "text": [
      "1\n",
      "2\n",
      "3\n"
     ]
    }
   ],
   "source": [
    "# Tuples\n",
    "myTuple = (1,2,3)\n",
    "for value in myTuple:\n",
    "    print(value)"
   ]
  },
  {
   "cell_type": "code",
   "execution_count": 9,
   "id": "ed2f7e27",
   "metadata": {},
   "outputs": [
    {
     "name": "stdout",
     "output_type": "stream",
     "text": [
      "Tuple: (1, 2, 3)\n",
      "Value: 1\n",
      "Value: 2\n",
      "Value: 3\n",
      "Tuple: (4, 5, 6)\n",
      "Value: 4\n",
      "Value: 5\n",
      "Value: 6\n",
      "Tuple: (7, 8, 9)\n",
      "Value: 7\n",
      "Value: 8\n",
      "Value: 9\n"
     ]
    }
   ],
   "source": [
    "# List with tuples\n",
    "myTupleList = [(1,2,3),(4,5,6), (7,8,9)]\n",
    "for tupleValue in myTupleList:\n",
    "    print(f\"Tuple: {tupleValue}\")\n",
    "    for value in tupleValue:\n",
    "        print(f\"Value: {value}\")"
   ]
  },
  {
   "cell_type": "code",
   "execution_count": 12,
   "id": "fec98c80",
   "metadata": {},
   "outputs": [
    {
     "name": "stdout",
     "output_type": "stream",
     "text": [
      "Value: 1\n",
      "Value: 2\n",
      "Value: 3\n",
      "Value: 4\n"
     ]
    }
   ],
   "source": [
    "newList = [(1,2),(3,4)]\n",
    "for a,b in newList:\n",
    "    print(f\"Value: {a}\")\n",
    "    print(f\"Value: {b}\")"
   ]
  },
  {
   "cell_type": "code",
   "execution_count": 17,
   "id": "42054966",
   "metadata": {},
   "outputs": [
    {
     "name": "stdout",
     "output_type": "stream",
     "text": [
      "Keys: name\n",
      "Value: Andres\n",
      "Keys: Age\n",
      "Value: 31\n",
      "Keys: profession\n",
      "Value: Developer\n",
      "Keys: gender\n",
      "Value: Male\n"
     ]
    }
   ],
   "source": [
    "myDictionary = {\"name\": 'Andres', \"Age\": 31, \"profession\": 'Developer', \"gender\": \"Male\"}\n",
    "for keys, value in myDictionary.items():\n",
    "    print(f\"Keys: {keys}\")\n",
    "    print(f\"Value: {value}\")"
   ]
  },
  {
   "cell_type": "code",
   "execution_count": null,
   "id": "f5948e80",
   "metadata": {},
   "outputs": [],
   "source": []
  }
 ],
 "metadata": {
  "kernelspec": {
   "display_name": "Python 3 (ipykernel)",
   "language": "python",
   "name": "python3"
  },
  "language_info": {
   "codemirror_mode": {
    "name": "ipython",
    "version": 3
   },
   "file_extension": ".py",
   "mimetype": "text/x-python",
   "name": "python",
   "nbconvert_exporter": "python",
   "pygments_lexer": "ipython3",
   "version": "3.9.7"
  }
 },
 "nbformat": 4,
 "nbformat_minor": 5
}
