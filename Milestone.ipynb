{
 "cells": [
  {
   "cell_type": "markdown",
   "id": "977af0e8",
   "metadata": {},
   "source": [
    "## Milestone project"
   ]
  },
  {
   "cell_type": "code",
   "execution_count": 4,
   "id": "016ff84f",
   "metadata": {},
   "outputs": [],
   "source": [
    "def print_dashboard( r1, r2, r3 ):\n",
    "    print(r1)\n",
    "    print(r2)\n",
    "    print(r3)    "
   ]
  },
  {
   "cell_type": "code",
   "execution_count": 10,
   "id": "38bc6f53",
   "metadata": {},
   "outputs": [
    {
     "name": "stdout",
     "output_type": "stream",
     "text": [
      "[' ', ' ', ' ']\n",
      "[' ', ' ', ' ']\n",
      "[' ', ' ', ' ']\n"
     ]
    }
   ],
   "source": [
    "row_1= [' ',' ',' ']\n",
    "row_2= [' ',' ',' ']\n",
    "row_3= [' ',' ',' ']\n",
    "print_dashboard(row_1,row_2,row_3)"
   ]
  },
  {
   "cell_type": "code",
   "execution_count": 11,
   "id": "77725bfc",
   "metadata": {},
   "outputs": [],
   "source": [
    "row_2[1] = 'X'"
   ]
  },
  {
   "cell_type": "code",
   "execution_count": 12,
   "id": "30076caa",
   "metadata": {},
   "outputs": [
    {
     "name": "stdout",
     "output_type": "stream",
     "text": [
      "[' ', ' ', ' ']\n",
      "[' ', 'X', ' ']\n",
      "[' ', ' ', ' ']\n"
     ]
    }
   ],
   "source": [
    "print_dashboard(row_1,row_2,row_3)"
   ]
  },
  {
   "cell_type": "code",
   "execution_count": null,
   "id": "5d246270",
   "metadata": {},
   "outputs": [],
   "source": []
  }
 ],
 "metadata": {
  "kernelspec": {
   "display_name": "Python 3 (ipykernel)",
   "language": "python",
   "name": "python3"
  },
  "language_info": {
   "codemirror_mode": {
    "name": "ipython",
    "version": 3
   },
   "file_extension": ".py",
   "mimetype": "text/x-python",
   "name": "python",
   "nbconvert_exporter": "python",
   "pygments_lexer": "ipython3",
   "version": "3.9.7"
  }
 },
 "nbformat": 4,
 "nbformat_minor": 5
}
